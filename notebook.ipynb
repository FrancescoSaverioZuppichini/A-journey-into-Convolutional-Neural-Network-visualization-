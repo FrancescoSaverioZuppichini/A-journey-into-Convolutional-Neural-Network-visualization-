{
 "cells": [
  {
   "cell_type": "markdown",
   "metadata": {},
   "source": [
    "# A journey into Convolutional Neural Network visualisation \n",
    "\n",
    "There is one famous urban legend about computer vision. Around the 80s, the US military wanted to use neural networks to automatically detect camouflaged enemy tanks. They took a number of pictures of trees without tanks and then pictures with the same trees with tanks behind them.\n",
    "The results were impressive. So impressive that the army wanted to be sure the net had correctly generalized. They took new pictures of woods with and without tanks and they showed them again to the network. This time, the model performed terribly, it was not able to discriminate between pictures tanks behind woods and just trees. It turned out, that all the pictures with of plain woods were taken on a cloudy day while the ones with tanks on a sunny day! In reality, the network lean to recognize the weather, not the enemy tanks.\n",
    "\n",
    "With this article we are going to see different techiniques to *understand* what it is going on inside a Convolutional Neural Network to making the same mistake made, ipotetically, by the US army.\n",
    "\n",
    "The structure is the following:\n",
    " - Introduction of the most used techniques\n",
    " - Visualisation of common neural networks\n",
    " - Visualisation of uncommon neural networks\n",
    " - Conclusion\n",
    " \n",
    "We are going to use [Pytorch](https://pytorch.org/) and not Tensorflow since Pytorch is a much better framework under all aspects, providing good practice a well written documentation, two main features the Google is missing. All the code can be found here, the visualisations classes where taken"
   ]
  },
  {
   "cell_type": "markdown",
   "metadata": {},
   "source": [
    "# Weights Visualisation\n",
    "The first straightfoward visualisation is just plot the weigths of a target Layer"
   ]
  },
  {
   "cell_type": "code",
   "execution_count": 1,
   "metadata": {},
   "outputs": [],
   "source": [
    "class Base:\n",
    "    def __init__(self, module, device):\n",
    "        self.module, self.device = module, device\n",
    "        self.handles = [] # handles stores the hooks\n",
    " \n",
    "    def clean(self):\n",
    "        [h.remove() for h in self.handles]\n",
    "\n",
    "    def __call__(self, inputs, layer, *args, **kwargs):\n",
    "        return inputs"
   ]
  },
  {
   "cell_type": "code",
   "execution_count": null,
   "metadata": {},
   "outputs": [],
   "source": []
  }
 ],
 "metadata": {
  "kernelspec": {
   "display_name": "Python 3",
   "language": "python",
   "name": "python3"
  },
  "language_info": {
   "codemirror_mode": {
    "name": "ipython",
    "version": 3
   },
   "file_extension": ".py",
   "mimetype": "text/x-python",
   "name": "python",
   "nbconvert_exporter": "python",
   "pygments_lexer": "ipython3",
   "version": "3.6.7"
  }
 },
 "nbformat": 4,
 "nbformat_minor": 2
}
